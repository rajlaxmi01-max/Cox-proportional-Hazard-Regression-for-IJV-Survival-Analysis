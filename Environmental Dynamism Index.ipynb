{
 "cells": [
  {
   "cell_type": "markdown",
   "id": "17aadab1",
   "metadata": {},
   "source": [
    "# Operationalisation of EVD Index"
   ]
  },
  {
   "cell_type": "code",
   "execution_count": null,
   "id": "ac5787c7",
   "metadata": {
    "scrolled": true
   },
   "outputs": [],
   "source": [
    "# Importing libraries\n",
    "import pandas as pd\n",
    "from sklearn.linear_model import LinearRegression\n",
    "import numpy as np\n",
    "import statsmodels.api as sm\n",
    "\n",
    "# Load dataset & creating variable name as \"EVD\"\n",
    "EVD = pd.read_csv(\"\\\\file name\")\n",
    "EVD"
   ]
  },
  {
   "cell_type": "code",
   "execution_count": null,
   "id": "e8df7e93",
   "metadata": {},
   "outputs": [],
   "source": [
    "def calculate_environmental_dynamism(firm_data):\n",
    "    # Extract relevant columns\n",
    "    years = [str(year) for year in range(1996, 2024)]\n",
    "    \n",
    "    # Initialize a dictionary to store results for each firm\n",
    "    environmental_dynamism = {}\n",
    "    \n",
    "    # Iterate over each row (firm) in the dataset\n",
    "    for index, row in firm_data.iterrows():\n",
    "        start_year = str(row['Start Year']).strip()  # Strip any extra characters\n",
    "        firm_name = row['Deal Name']\n",
    "        \n",
    "        # Filter industry revenue data for preceding 5 years\n",
    "        if start_year not in years:\n",
    "            continue  # Skip if the start year is not in the expected range\n",
    "        \n",
    "        start_index = years.index(start_year)\n",
    "        end_index = start_index - 5\n",
    "        \n",
    "        if end_index < 0:\n",
    "            continue  # Skip if there are less than 5 preceding years\n",
    "        \n",
    "        revenue_values = row[years[end_index:start_index]]\n",
    "        time_values = list(range(end_index + 1996, start_index + 1996))  # Define time values here\n",
    "        \n",
    "        # Calculate mean industry revenue for preceding 5 years\n",
    "        mean_revenue = revenue_values.mean()\n",
    "        \n",
    "        print(\"Mean Revenue Values:\", revenue_values)\n",
    "        print(\"Time Values:\", time_values)\n",
    "\n",
    "        # Perform linear regression using statsmodels to get the standard error\n",
    "        X = sm.add_constant(time_values)  # Add a constant term for the intercept\n",
    "        y = revenue_values.astype(float)  # Ensure y is in float\n",
    "        \n",
    "        model = sm.OLS(y, X).fit()\n",
    "        slope_coefficient = model.params[1]\n",
    "        slope_standard_error = model.bse[1]\n",
    "        \n",
    "        # Calculate environmental dynamism\n",
    "        if mean_revenue != 0:\n",
    "            environmental_dynamism[firm_name] = slope_standard_error / mean_revenue\n",
    "        else:\n",
    "            environmental_dynamism[firm_name] = np.nan\n",
    "    \n",
    "    return environmental_dynamism"
   ]
  },
  {
   "cell_type": "code",
   "execution_count": null,
   "id": "e3ad9864",
   "metadata": {},
   "outputs": [],
   "source": [
    "# Convert year columns to numeric, coercing errors to NaN\n",
    "year_columns = [str(year) for year in range(1996, 2021)]\n",
    "for col in year_columns:\n",
    "    EVD[col] = pd.to_numeric(EVD[col], errors='coerce')\n",
    "\n",
    "# Identify rows where any of these year columns contain NaN values\n",
    "non_numeric_rows = EVD[year_columns].isna().any(axis=1)\n",
    "\n",
    "# Display rows with non-numeric values in year columns\n",
    "if non_numeric_rows.any():\n",
    "    print(\"Rows with non-numeric values in year columns:\")\n",
    "    print(EVD[non_numeric_rows])\n",
    "else:\n",
    "    print(\"No non-numeric values found in year columns.\")\n"
   ]
  },
  {
   "cell_type": "code",
   "execution_count": null,
   "id": "b2a390df",
   "metadata": {},
   "outputs": [],
   "source": [
    "# Calculate environmental dynamism for all firms using EVD DataFrame\n",
    "environmental_dynamism_result = calculate_environmental_dynamism(EVD)"
   ]
  },
  {
   "cell_type": "code",
   "execution_count": null,
   "id": "32b6aec4",
   "metadata": {},
   "outputs": [],
   "source": [
    "# Print environmental dynamism for each firm\n",
    "for firm, dynamism in environmental_dynamism_result.items():\n",
    "    print(f\"Firm: {firm}, Environmental Dynamism: {dynamism}\")"
   ]
  },
  {
   "cell_type": "code",
   "execution_count": null,
   "id": "c2ed0996",
   "metadata": {},
   "outputs": [],
   "source": [
    "# Convert the dictionary to a DataFrame\n",
    "result_df = pd.DataFrame(list(environmental_dynamism_result.items()), columns=['Firm', 'Environmental Dynamism'])\n",
    "\n",
    "# Save the DataFrame to a CSV file\n",
    "result_df.to_csv('\\\\outputfile', index=False)"
   ]
  }
 ],
 "metadata": {
  "kernelspec": {
   "display_name": "Python 3 (ipykernel)",
   "language": "python",
   "name": "python3"
  },
  "language_info": {
   "codemirror_mode": {
    "name": "ipython",
    "version": 3
   },
   "file_extension": ".py",
   "mimetype": "text/x-python",
   "name": "python",
   "nbconvert_exporter": "python",
   "pygments_lexer": "ipython3",
   "version": "3.9.13"
  }
 },
 "nbformat": 4,
 "nbformat_minor": 5
}
